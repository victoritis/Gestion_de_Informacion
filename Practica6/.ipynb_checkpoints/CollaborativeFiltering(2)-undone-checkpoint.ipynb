{
 "cells": [
  {
   "cell_type": "markdown",
   "metadata": {
    "slideshow": {
     "slide_type": "slide"
    }
   },
   "source": [
    "<img src=\"http://www.ubu.es/sites/default/files/portal_page/images/logo_color_2l_dcha.jpg\" height=\"150\" width=\"150\" align=\"right\"/>"
   ]
  },
  {
   "cell_type": "markdown",
   "metadata": {
    "slideshow": {
     "slide_type": "-"
    }
   },
   "source": [
    "## Collaborative Filtering (2)\n",
    "[Nacho Santos](www.nacho.santos.name)"
   ]
  },
  {
   "cell_type": "markdown",
   "metadata": {
    "slideshow": {
     "slide_type": "slide"
    }
   },
   "source": [
    "## Import python packages"
   ]
  },
  {
   "cell_type": "code",
   "execution_count": 55,
   "metadata": {
    "slideshow": {
     "slide_type": "-"
    }
   },
   "outputs": [],
   "source": [
    "import numpy as np\n",
    "from scipy.optimize import minimize\n",
    "import matplotlib.pyplot as plt"
   ]
  },
  {
   "cell_type": "code",
   "execution_count": 56,
   "metadata": {
    "scrolled": true,
    "slideshow": {
     "slide_type": "-"
    }
   },
   "outputs": [
    {
     "name": "stdout",
     "output_type": "stream",
     "text": [
      "Las dimensiones son correctas:\n",
      "Dimensiones de Y: (943, 1682) - Esperadas: (943, 1682)\n",
      "Dimensiones de R: (943, 1682) - Esperadas: (943, 1682)\n",
      "Matriz Y:\n",
      "[[5. 3. 4. 3. 3.]\n",
      " [4. 0. 0. 0. 0.]\n",
      " [0. 0. 0. 0. 0.]\n",
      " [0. 0. 0. 0. 0.]\n",
      " [4. 3. 0. 0. 0.]]\n",
      "\n",
      "Matriz R:\n",
      "[[1. 1. 1. 1. 1.]\n",
      " [1. 0. 0. 0. 0.]\n",
      " [0. 0. 0. 0. 0.]\n",
      " [0. 0. 0. 0. 0.]\n",
      " [1. 1. 0. 0. 0.]]\n"
     ]
    }
   ],
   "source": [
    "# Other functions necessary for this assignment\n",
    "# The python file \"recommender_system.py\" must be in the same folder as this notebook, otherwise,\n",
    "# you have to add the path to the file\n",
    "from recommender_system import *\n",
    "\n",
    "# Ruta al archivo 'u.data' en tu carpeta de trabajo de Jupyter\n",
    "file_path_ratings = 'u.data'\n",
    "\n",
    "# Leer el archivo 'u.data' y crear las matrices \"Y\" y \"R\"\n",
    "ratings_data = np.genfromtxt(file_path_ratings, delimiter='\\t', dtype=int)\n",
    "num_users = np.max(ratings_data[:, 0])\n",
    "num_movies = np.max(ratings_data[:, 1])\n",
    "\n",
    "dim_Y = (num_users, num_movies)\n",
    "dim_R = (num_users, num_movies)\n",
    "\n",
    "# Supongamos que estas son las matrices cargadas\n",
    "Y = np.load('matriz_Y.npy')\n",
    "R = np.load('matriz_R.npy')\n",
    "\n",
    "# Verificar las dimensiones de las matrices Y y R\n",
    "if Y.shape == dim_Y and R.shape == dim_R:\n",
    "    print(\"Las dimensiones son correctas:\")\n",
    "    print(f\"Dimensiones de Y: {Y.shape} - Esperadas: {dim_Y}\")\n",
    "    print(f\"Dimensiones de R: {R.shape} - Esperadas: {dim_R}\")\n",
    "else:\n",
    "    print(\"Error en las dimensiones:\")\n",
    "    print(f\"Dimensiones de Y: {Y.shape} - Esperadas: {dim_Y}\")\n",
    "    print(f\"Dimensiones de R: {R.shape} - Esperadas: {dim_R}\")\n",
    "    \n",
    "# Imprimir una muestra de las matrices Y y R\n",
    "print(\"Matriz Y:\")\n",
    "print(Y[:5, :5])  # Imprime las primeras 5 filas y 5 columnas de Y\n",
    "\n",
    "print(\"\\nMatriz R:\")\n",
    "print(R[:5, :5])  # Imprime las primeras 5 filas y 5 columnas de R\n"
   ]
  },
  {
   "cell_type": "code",
   "execution_count": 57,
   "metadata": {
    "slideshow": {
     "slide_type": "-"
    }
   },
   "outputs": [],
   "source": [
    "# This line is necessary to show matplotlib plots inside the jupyter notebook\n",
    "%matplotlib inline"
   ]
  },
  {
   "cell_type": "markdown",
   "metadata": {
    "slideshow": {
     "slide_type": "slide"
    }
   },
   "source": [
    "## 2 The cost funcion J and the gradient of J\n",
    "The objective of this point is to build a function to compute the cost J and the corresponding gradient of J. In particular, you are going to implement a function called **cofiCostFunc()** with the arguments(inputs) and outputs detailed below (the code of the function is partially predefined in a cell right after).\n",
    "\n",
    "**Arguments** (in this order)\n",
    "* *parameters* (the paramaters of the cost function, i.e. X and $\\theta$\n",
    "* *Y* (matrix of ratings)\n",
    "* *R* (matrix of watched movies)\n",
    "* *n_users* (number of users)\n",
    "* *n_movies* (number of movies)\n",
    "* *n_characteristics* (number of the filter characteristics)\n",
    "* *landa* (regularization parameter)\n",
    "\n",
    "**Outputs** (in this order)\n",
    "* *cost* (value of the cost function J)\n",
    "* *gradient* (gradient of the cost function J)\n",
    "* La función cofiCostFunc que proporcioné anteriormente encapsula la fórmula en un bloque de código en Python. La fórmula se implementa paso a paso dentro de la función. A continuación, te muestro cómo cada parte de la fórmula se traduce en el código:\n",
    "\n",
    "    Error Cuadrático:\n",
    "        predictions = X.dot(Theta.T) calcula todas las predicciones de las calificaciones como el producto punto entre las características de las películas XX y las preferencias del usuario ΘΘ.\n",
    "        errors = (predictions - Y) * R calcula la diferencia entre las predicciones y las calificaciones reales YY, pero solo para los elementos donde RR es igual a 1 (es decir, donde una calificación existe).\n",
    "\n",
    "    Costo sin Regularización:\n",
    "        cost = (1/2) * np.sum(errors**2) calcula la mitad de la suma de los errores cuadráticos, que es la primera parte de la fórmula.\n",
    "\n",
    "    Regularización:\n",
    "        cost += (lambda_reg/2) * (np.sum(Theta**2) + np.sum(X**2)) añade la regularización para ΘΘ y XX al costo, que es la suma de la mitad del término de regularización multiplicado por la suma de los cuadrados de los elementos de ΘΘ y XX.\n",
    "\n",
    "    Gradientes:\n",
    "        X_grad = errors.dot(Theta) + lambda_reg * X calcula el gradiente para XX con regularización.\n",
    "        Theta_grad = errors.T.dot(X) + lambda_reg * Theta calcula el gradiente para ΘΘ con regularización.\n",
    "\n",
    "    Vector de Gradientes:\n",
    "        gradient = np.concatenate([X_grad.ravel(), Theta_grad.ravel()]) aplana y concatena los gradientes de XX y ΘΘ en un solo vector para su uso en algoritmos de optimización.\n",
    "  "
   ]
  },
  {
   "cell_type": "code",
   "execution_count": 58,
   "metadata": {
    "slideshow": {
     "slide_type": "slide"
    }
   },
   "outputs": [],
   "source": [
    "# Cost and gradient function\n",
    "def cofiCostFunc(parameters, Y, R, n_users, n_movies, n_features, lamb):\n",
    "    # parameters: vector with the matrices X and Theta folded\n",
    "    # Y: matrix of ratings\n",
    "    # R: matrix of watched movies\n",
    "    # n_users: number of users (number of columns of the matrix Y)\n",
    "    # n_movies: number of movies (number of rows of the matrix Y)\n",
    "    # n_features: number of movies' features (a parameter of the CF algorithm)\n",
    "    # lamb: regularization term\n",
    "    #\n",
    "    # cofiCostFunc returns the cost J and the gradient of J\n",
    "\n",
    "    # You need to return the following values correctly\n",
    "    cost = 0\n",
    "    gradient = np.zeros_like(parameters)\n",
    "    \n",
    "    # Desplegar X y Theta de parameters\n",
    "    X = parameters[:n_movies * n_features].reshape(n_movies, n_features)\n",
    "    Theta = parameters[n_movies * n_features:].reshape(n_users, n_features)\n",
    "    \n",
    "    # Calcular las predicciones de las calificaciones\n",
    "    predictions = X.dot(Theta.T)\n",
    "    \n",
    "    # Calcular los errores solo para las películas que han sido calificadas\n",
    "    errors = (predictions - Y) * R\n",
    "    \n",
    "    # Calcular el coste con regularización\n",
    "    cost = 0.5 * np.sum(errors ** 2) + (lamb / 2) * (np.sum(Theta ** 2) + np.sum(X ** 2))\n",
    "    \n",
    "    # Calcular los gradientes con regularización\n",
    "    X_grad = errors.dot(Theta) + lamb * X\n",
    "    Theta_grad = errors.T.dot(X) + lamb * Theta\n",
    "    \n",
    "    # Replegar los gradientes en un solo vector\n",
    "    gradient = np.concatenate([X_grad.ravel(), Theta_grad.ravel()])\n",
    "    \n",
    "    return cost, gradient"
   ]
  },
  {
   "cell_type": "markdown",
   "metadata": {
    "slideshow": {
     "slide_type": "slide"
    }
   },
   "source": [
    "### 2.1 Input *parameters* of the cofiCostFunc\n",
    "\n",
    "**Features X and preferences Theta**\n",
    "\n",
    "The Collaborative Filtering (CF) algorithm is based on two sets of lineas regressions, the first one corresponds to the movies' features X, and the second one corresponds to the users' preferences Theta. Assuming n features, the matrix X will be:\n",
    "\n",
    "$$X=\\begin{bmatrix}x^{(1)}_{1} & ...& x^{(1)}_{n} \\\\. & ...& .\\\\x^{(m)}_{1} & ...& x^{(m)}_{n} \\end{bmatrix}$$\n",
    "\n",
    "where the i-th row of X corresponds to the feature vector $x^{(i)}$ for the i-th movie.\n",
    "\n",
    "And the matrix Theta will be:\n",
    "\n",
    "$$Theta=\\Theta=\\begin{bmatrix}\\theta^{(1)}_{1} & ...& \\theta^{(1)}_{n} \\\\. & ...& .\\\\\\theta^{(u)}_{1} & ...& \\theta^{(u)}_{n} \\end{bmatrix}$$\n",
    "\n",
    "where the j-th row of Theta corresponds to the preference vector $\\theta^{(j)}$ for the j-th user. "
   ]
  },
  {
   "cell_type": "markdown",
   "metadata": {
    "slideshow": {
     "slide_type": "slide"
    }
   },
   "source": [
    "**Passing X and Theta to cofiCostFunc**\n",
    "\n",
    "We are going to use a optimize package scipy.optimize that requires using a **flattened vector** of parameters. However, in our problem tha parameters to be optimized are represented by two matrices, i.e. X and Theta. So, X and Theta must be passed to the cofiCostFunc as a **(mxn)+(u+n) vector**, called **parameters**:\n",
    "\n",
    "$${ \\left[ \\begin{matrix} { x }^{ (1) }, & ... & { x }^{ (m) }, \\end{matrix}\\begin{matrix} \\theta ^{ (1) }, & ... & \\theta ^{ (u) } \\end{matrix} \\right]  }_{ (m\\cdot n)+(u\\cdot n) }$$ \n",
    "\n",
    "However, inside the function, you can unfold the vector **parameters** and build the matrices X and Theta to compute J and the gradients according to the equations explained in class."
   ]
  },
  {
   "cell_type": "markdown",
   "metadata": {
    "slideshow": {
     "slide_type": "slide"
    }
   },
   "source": [
    "### 2.2 Computing the cost J\n",
    "Suppose that the vector of features $x^{(i)}$ of the film i and the vector of preferences $\\theta^{(j)}$ of the user j are known, then the **estimate of the rating** of the user j for the movie i will be:\n",
    "\n",
    "$$\\widehat{y}^{(i,j)}=x^{(i)}(\\theta^{(j)})^{T}$$\n",
    "\n",
    "The error of the estimate will be the difference between the estimate of rating $\\widehat{y}^{(i,j)}$ and the real ratings $y^{(i,j)}$\n",
    "\n",
    "The **cost J** is defined as the the average of the squares of the errors plus two regularization terms:\n",
    "\n",
    "$$J=\\frac { 1 }{ 2 } \\sum _{ (i,j):r(i,j)=1 }^{  }{ \\left( { x }^{ (i) }({ \\theta  }^{ (j) })^{ T }-{ y }^{ (i,j) } \\right) ^{ 2 } } +\\quad \\frac { \\lambda  }{ 2 } \\sum _{ i=1 }^{ m }{ \\sum _{ k=1 }^{ n }{ ({ x }_{ k }^{ (i) })^{ 2 } }  } +\\frac { \\lambda  }{ 2 } \\sum _{ j=1 }^{ u }{ \\sum _{ k=1 }^{ n }{ ({ \\theta  }_{ k }^{ (j) })^{ 2 } }  } $$\n"
   ]
  },
  {
   "cell_type": "markdown",
   "metadata": {
    "slideshow": {
     "slide_type": "slide"
    }
   },
   "source": [
    "### Task 7\n",
    "***\n",
    "Implement the cost J as a vectorized expression (recommended). For example, the estimate of ratings can be expressed as:\n",
    "\n",
    "$$\\widehat{Y}=X\\Theta^{T}$$\n",
    "\n",
    "Now, go back and **complete the cofiCostFunc code to compute the cost J**. Remeber that J is scalar value."
   ]
  },
  {
   "cell_type": "markdown",
   "metadata": {
    "slideshow": {
     "slide_type": "slide"
    }
   },
   "source": [
    "### 2.3 Checking the cost J\n",
    "Now, you will import a data set and check the cofiCostFunc."
   ]
  },
  {
   "cell_type": "code",
   "execution_count": 59,
   "metadata": {
    "slideshow": {
     "slide_type": "-"
    }
   },
   "outputs": [
    {
     "name": "stdout",
     "output_type": "stream",
     "text": [
      "Coste:  157.31409370104396\n"
     ]
    }
   ],
   "source": [
    "# load dataset for checking\n",
    "Y=np.load('YmatrixTest.npy')\n",
    "R=np.load('RmatrixTest.npy')\n",
    "X=np.load('XmatrixTest.npy')\n",
    "Theta=np.load('ThetamatrixTest.npy')\n",
    "\n",
    "# dimension\n",
    "n_users = Y.shape[1]\n",
    "n_movies = Y.shape[0]\n",
    "n_features = X.shape[1]\n",
    "\n",
    "# Aplanar las matrices X y Theta para crear el vector de parámetros\n",
    "parameters = np.concatenate([X.ravel(), Theta.ravel()])\n",
    "\n",
    "# Definir el parámetro de regularización\n",
    "# Debes reemplazar esto con el valor correcto de lambda que estás utilizando en tu configuración\n",
    "lambda_reg = 22.22\n",
    "\n",
    "# Calcular el costo usando la función cofiCostFunc\n",
    "cost, _ = cofiCostFunc(parameters, Y, R, n_users, n_movies, n_features, lambda_reg)\n",
    "\n",
    "# Mostrar el costo\n",
    "print('Coste: ', cost)\n"
   ]
  },
  {
   "cell_type": "markdown",
   "metadata": {},
   "source": [
    "### Task 8\n",
    "***\n",
    "Call cofiCostFunc with lamb=0 (without regularization term) and check the result"
   ]
  },
  {
   "cell_type": "code",
   "execution_count": 60,
   "metadata": {
    "slideshow": {
     "slide_type": "slide"
    }
   },
   "outputs": [
    {
     "name": "stdout",
     "output_type": "stream",
     "text": [
      "The value of J (without regularization term) is 22.22 (it should be 22.22)\n"
     ]
    }
   ],
   "source": [
    "# Evaluate Cost J (without regularization term)\n",
    "J=0\n",
    "parameters=[]\n",
    "\n",
    "# YOUR CODE ..................................\n",
    "# call cofiCostFunc with lamb=0 (without regularization term)\n",
    "\n",
    "# Aplanar las matrices X y Theta para crear el vector de parámetros\n",
    "parameters = np.concatenate([X.ravel(), Theta.ravel()])\n",
    "\n",
    "# Llamar a cofiCostFunc con lamb = 0 (sin término de regularización)\n",
    "J, _ = cofiCostFunc(parameters, Y, R, n_users, n_movies, n_features, lamb=0)\n",
    "\n",
    "# YOUR CODE (end)..................................\n",
    "\n",
    "print('The value of J (without regularization term) is %0.2f (it should be 22.22)' % J )"
   ]
  },
  {
   "cell_type": "markdown",
   "metadata": {},
   "source": [
    "### Task 9\n",
    "***\n",
    "Call cofiCostFunc with lamb=1.5 (with regularization term) and check the result"
   ]
  },
  {
   "cell_type": "code",
   "execution_count": 61,
   "metadata": {
    "slideshow": {
     "slide_type": "slide"
    }
   },
   "outputs": [
    {
     "name": "stdout",
     "output_type": "stream",
     "text": [
      "The value of J (with regularization term equal to 1.5) is 31.34 (it should be 31.34)\n"
     ]
    }
   ],
   "source": [
    "# Evaluate Cost J (with regularization term)\n",
    "J=0\n",
    "parameters=[]\n",
    "\n",
    "# YOUR CODE ..................................\n",
    "# call cofiCostFunc with lamb=1.5 (without regularization term)\n",
    "\n",
    "\n",
    "# Aplanar las matrices X y Theta para crear el vector de parámetros\n",
    "parameters = np.concatenate([X.ravel(), Theta.ravel()])\n",
    "\n",
    "# Llamar a cofiCostFunc con lamb = 1.5 (con término de regularización)\n",
    "J, _ = cofiCostFunc(parameters, Y, R, n_users, n_movies, n_features, lamb=1.5)\n",
    "\n",
    "\n",
    "# YOUR CODE (end)..................................\n",
    "\n",
    "print('The value of J (with regularization term equal to 1.5) is %0.2f (it should be 31.34)' % J )"
   ]
  },
  {
   "cell_type": "markdown",
   "metadata": {
    "slideshow": {
     "slide_type": "slide"
    }
   },
   "source": [
    "### 2.4 Computing the gradient of J\n",
    "The **gradient of J** depends on the two types of parameters, i.e. X and Theta. The corresponding equations are:\n",
    "\n",
    "$$\\frac { \\partial J }{ \\partial { \\theta  }_{ k }^{ (j) } } =\\sum _{ i:r(i,j)=1 }^{  }{ \\left( { x }^{ (i) }({ \\theta  }^{ (j) })^{ T }-{ y }^{ (i,j) } \\right) { x }_{ k }^{ (i) } } +\\lambda { \\theta  }_{ k }^{ (j) }$$\n",
    "\n",
    "$$\\frac { \\partial J }{ \\partial { x }_{ k }^{ (i) } } =\\sum _{ j:r(i,j)=1 }^{  }{ \\left( { x }^{ (i) }({ \\theta  }^{ (j) })^{ T }-{ y }^{ (i,j) } \\right) \\theta _{ k }^{ (j) } } +\\lambda { x }_{ k }^{ (i) }$$"
   ]
  },
  {
   "cell_type": "markdown",
   "metadata": {
    "slideshow": {
     "slide_type": "slide"
    }
   },
   "source": [
    "### Task 10\n",
    "***\n",
    "Now, go back and **complete the cofiCostFunc code to compute the gradient of J**. Remember to use vectorized operations instead of using for loops.\n",
    "\n",
    "Note that the outputs of cofiCostFunc are the cost J (scalar value) and the gradient, again a **flattened vector of the corresponding gradients of X and Theta**:\n",
    "\n",
    "$${ \\left[ \\begin{matrix} \\frac { \\partial J }{ \\partial { x }^{ (1) } } , & ... & \\frac { \\partial J }{ \\partial { x }^{ (m) } } , & \\frac { \\partial J }{ \\partial \\theta ^{ (1) } } , & ... & \\frac { \\partial J }{ \\partial \\theta ^{ (u) } }  \\end{matrix} \\right]  }_{ (m\\cdot n)+(u\\cdot n) }$$\n",
    "\n",
    "After computing both gradients, you should reshape them into a flattened vector called **gradient** that will be returned by the cofiCostFunc."
   ]
  },
  {
   "cell_type": "markdown",
   "metadata": {},
   "source": [
    "### 2.5 Checking the gradient of J\n",
    "For the same dataset of the last poit, you will check the gradient of J computed by your cofiCostFunc"
   ]
  },
  {
   "cell_type": "code",
   "execution_count": 62,
   "metadata": {},
   "outputs": [
    {
     "name": "stdout",
     "output_type": "stream",
     "text": [
      "The above two columns you get should be very similar.\n",
      "(Left - Your Numerical Gradient, Right - Analytical Gradient)\n",
      "\n",
      "(-0.37230596830306606, -0.372305968303198)\n",
      "(-0.15962446347606019, -0.15962446347621445)\n",
      "(-0.42991107743028945, -0.42991107743033785)\n",
      "(-0.04259039937670739, -0.042590399377181586)\n",
      "(0.09332492172831053, 0.09332492172855393)\n",
      "(0.11006353356490806, 0.11006353356491724)\n",
      "(0.2991745313069005, 0.29917453130720817)\n",
      "(0.2224783509180428, 0.22247835091872117)\n",
      "(0.4853868313497989, 0.4853868313497523)\n",
      "(0.2734918927305152, 0.27349189273066193)\n",
      "(0.17894653646877146, 0.17894653646861358)\n",
      "(0.4442642274277153, 0.4442642274278332)\n",
      "(0.18695079772423906, 0.18695079772394307)\n",
      "(0.14545283945732734, 0.14545283945704493)\n",
      "(0.009925476039396308, 0.009925476039477821)\n",
      "(-0.37802633278405384, -0.37802633278366415)\n",
      "(-0.28065446828540175, -0.28065446828548635)\n",
      "(-0.13872284196247975, -0.1387228419627965)\n",
      "(0.9630899618645605, 0.9630899618639875)\n",
      "(0.4746935901195348, 0.4746935901199118)\n",
      "(0.8458184595661056, 0.8458184595658788)\n",
      "(0.08038265273013767, 0.08038265272989503)\n",
      "(0.06253990474991422, 0.06253990475032577)\n",
      "(0.004267626045884043, 0.004267626045855912)\n",
      "(-0.05220411151252158, -0.05220411151250683)\n",
      "(-0.03773713106891563, -0.03773713106901278)\n",
      "(-0.009169295713262748, -0.009169295713454068)\n",
      "If your backpropagation implementation is correct, then \n",
      "the relative difference will be small (less than 1e-9).\n",
      "Relative Difference: 4.10331262e-13\n",
      "\n"
     ]
    }
   ],
   "source": [
    "# Check gradients (without regularization term) by running the next function\n",
    "checkCostFunction(cofiCostFunc,0)"
   ]
  },
  {
   "cell_type": "code",
   "execution_count": 63,
   "metadata": {},
   "outputs": [
    {
     "name": "stdout",
     "output_type": "stream",
     "text": [
      "The above two columns you get should be very similar.\n",
      "(Left - Your Numerical Gradient, Right - Analytical Gradient)\n",
      "\n",
      "(2.3745109592532287, 2.374510959246948)\n",
      "(0.7516304758858894, 0.7516304758733783)\n",
      "(2.168703857456933, 2.1687038574543935)\n",
      "(-0.7463939747598403, -0.746393974766725)\n",
      "(0.06598723583550736, 0.0659872358444421)\n",
      "(-1.0513099241205026, -1.0513099241231594)\n",
      "(1.958885205359806, 1.9588852053664132)\n",
      "(2.2129394637282473, 2.212939463742857)\n",
      "(2.281409909761223, 2.28140990975978)\n",
      "(2.685362698375826, 2.6853626983860126)\n",
      "(2.621949842724902, 2.621949842734727)\n",
      "(1.3777582693919044, 1.3777582693984218)\n",
      "(2.465198863763618, 2.465198863752968)\n",
      "(2.5938746503761934, 2.5938746503859758)\n",
      "(1.187873515853255, 1.1878735158519373)\n",
      "(1.9297806247031701, 1.9297806247042524)\n",
      "(1.6870726047635287, 1.687072604765489)\n",
      "(2.7507041347529793, 2.750704134750799)\n",
      "(1.8827885822592094, 1.8827885822593822)\n",
      "(1.3761534179845825, 1.3761534179883745)\n",
      "(0.8736146930576894, 0.8736146930511678)\n",
      "(0.48836096041782184, 0.48836096042484495)\n",
      "(0.4597524201876979, 0.4597524201923976)\n",
      "(0.9333493137475557, 0.9333493137464437)\n",
      "(1.8180495420150322, 1.8180495420199871)\n",
      "(0.05954034894450899, 0.05954034894838739)\n",
      "(1.3824741881762748, 1.3824741881793723)\n",
      "If your backpropagation implementation is correct, then \n",
      "the relative difference will be small (less than 1e-9).\n",
      "Relative Difference: 1.92423414e-12\n",
      "\n"
     ]
    }
   ],
   "source": [
    "# Check gradients (with regularization term) by running the next function\n",
    "checkCostFunction(cofiCostFunc,1.5)"
   ]
  },
  {
   "cell_type": "markdown",
   "metadata": {
    "slideshow": {
     "slide_type": "slide"
    }
   },
   "source": [
    "## 3 Learning and recommendation\n",
    "Finally, you will use your cofiCostFun to make predictions using the initial Movielens dataset. Part of the python code you need is already written in the next cells. You only have to complete those lines that are explicitly required."
   ]
  },
  {
   "cell_type": "markdown",
   "metadata": {},
   "source": [
    "### Task 11\n",
    "***\n",
    "Load the matrix Y and R computed in the first notebook."
   ]
  },
  {
   "cell_type": "code",
   "execution_count": 64,
   "metadata": {},
   "outputs": [
    {
     "name": "stdout",
     "output_type": "stream",
     "text": [
      "Las dimensiones son correctas:\n",
      "Dimensiones de Y: (943, 1682) - Esperadas: (943, 1682)\n",
      "Dimensiones de R: (943, 1682) - Esperadas: (943, 1682)\n",
      "Matriz Y:\n",
      "[[5. 3. 4. 3. 3.]\n",
      " [4. 0. 0. 0. 0.]\n",
      " [0. 0. 0. 0. 0.]\n",
      " [0. 0. 0. 0. 0.]\n",
      " [4. 3. 0. 0. 0.]]\n",
      "\n",
      "Matriz R:\n",
      "[[1. 1. 1. 1. 1.]\n",
      " [1. 0. 0. 0. 0.]\n",
      " [0. 0. 0. 0. 0.]\n",
      " [0. 0. 0. 0. 0.]\n",
      " [1. 1. 0. 0. 0.]]\n"
     ]
    }
   ],
   "source": [
    "# Task: load matrix Y and R\n",
    "# YOUR CODE ..................................\n",
    "\n",
    "# Ruta al archivo 'u.data' en tu carpeta de trabajo de Jupyter\n",
    "file_path_ratings = 'u.data'\n",
    "\n",
    "# Leer el archivo 'u.data' y crear las matrices \"Y\" y \"R\"\n",
    "ratings_data = np.genfromtxt(file_path_ratings, delimiter='\\t', dtype=int)\n",
    "num_users = np.max(ratings_data[:, 0])\n",
    "num_movies = np.max(ratings_data[:, 1])\n",
    "\n",
    "dim_Y = (num_users, num_movies)\n",
    "dim_R = (num_users, num_movies)\n",
    "\n",
    "# Supongamos que estas son las matrices cargadas\n",
    "Y = np.load('matriz_Y.npy')\n",
    "R = np.load('matriz_R.npy')\n",
    "\n",
    "# Verificar las dimensiones de las matrices Y y R\n",
    "if Y.shape == dim_Y and R.shape == dim_R:\n",
    "    print(\"Las dimensiones son correctas:\")\n",
    "    print(f\"Dimensiones de Y: {Y.shape} - Esperadas: {dim_Y}\")\n",
    "    print(f\"Dimensiones de R: {R.shape} - Esperadas: {dim_R}\")\n",
    "else:\n",
    "    print(\"Error en las dimensiones:\")\n",
    "    print(f\"Dimensiones de Y: {Y.shape} - Esperadas: {dim_Y}\")\n",
    "    print(f\"Dimensiones de R: {R.shape} - Esperadas: {dim_R}\")\n",
    "    \n",
    "# Imprimir una muestra de las matrices Y y R\n",
    "print(\"Matriz Y:\")\n",
    "print(Y[:5, :5])  # Imprime las primeras 5 filas y 5 columnas de Y\n",
    "\n",
    "print(\"\\nMatriz R:\")\n",
    "print(R[:5, :5])  # Imprime las primeras 5 filas y 5 columnas de R\n",
    "\n",
    "\n"
   ]
  },
  {
   "cell_type": "markdown",
   "metadata": {},
   "source": [
    "### Task 12\n",
    "***\n",
    "* Get the number of users and movies and assign the corresponding variables n_users, n_movies.\n",
    "* Set the initial parameters (Theta, X) with random values.\n",
    "* Fold X and Theta into the variable initial_parameters."
   ]
  },
  {
   "cell_type": "code",
   "execution_count": 65,
   "metadata": {},
   "outputs": [],
   "source": [
    "# Set the number of features\n",
    "n_features = 100"
   ]
  },
  {
   "cell_type": "code",
   "execution_count": 66,
   "metadata": {},
   "outputs": [],
   "source": [
    "# YOUR CODE ..................................\n",
    "# Assuming Y and R have already been loaded\n",
    "n_users, n_movies = Y.shape\n",
    "\n",
    "# Number of features\n",
    "n_features = 100\n",
    "\n",
    "# Initialize X and Theta with random values\n",
    "X = np.random.rand(n_movies, n_features)\n",
    "Theta = np.random.rand(n_users, n_features)\n",
    "\n",
    "# Unroll parameters into a single array\n",
    "initial_parameters = np.concatenate([X.ravel(), Theta.ravel()])\n",
    "\n"
   ]
  },
  {
   "cell_type": "markdown",
   "metadata": {},
   "source": [
    "Now, we set the rest of the parameters and minimize the function"
   ]
  },
  {
   "cell_type": "code",
   "execution_count": 73,
   "metadata": {},
   "outputs": [],
   "source": [
    "# Set the regularization parameter\n",
    "lamb = 10\n",
    "\n",
    "# Define a function to be minimized\n",
    "def cofiCostFunc_minimize(parameters):\n",
    "    return cofiCostFunc(parameters,Y, R, n_users, n_movies, n_features,lamb)\n",
    "\n",
    "# Set the number of iteations\n",
    "max_iter=200"
   ]
  },
  {
   "cell_type": "code",
   "execution_count": 76,
   "metadata": {},
   "outputs": [
    {
     "name": "stdout",
     "output_type": "stream",
     "text": [
      "Warning: Maximum number of iterations has been exceeded.\n",
      "         Current function value: 66580.380065\n",
      "         Iterations: 200\n",
      "         Function evaluations: 303\n",
      "         Gradient evaluations: 303\n"
     ]
    }
   ],
   "source": [
    "# Ensure Y and R are in the correct shape\n",
    "Y = Y.T if Y.shape[0] != n_movies else Y\n",
    "R = R.T if R.shape[0] != n_movies else R\n",
    "\n",
    "# Minimize the function using minimize from the package scipy.optimize and get the optimized parameters\n",
    "parameters = (minimize(cofiCostFunc_minimize, initial_parameters, method=\"CG\", jac=True,\n",
    "                       options={'maxiter': max_iter, \"disp\": True})).x\n"
   ]
  },
  {
   "cell_type": "markdown",
   "metadata": {},
   "source": [
    "### Task 13\n",
    "***\n",
    "Get the matrix of predictions P\n"
   ]
  },
  {
   "cell_type": "code",
   "execution_count": 77,
   "metadata": {},
   "outputs": [],
   "source": [
    "# YOUR CODE ..................................\n",
    "\n",
    "# Reshape the optimized parameters back into X and Theta matrices\n",
    "X_optimized = parameters[:n_movies * n_features].reshape(n_movies, n_features)\n",
    "Theta_optimized = parameters[n_movies * n_features:].reshape(n_users, n_features)\n",
    "\n",
    "# Now, you can use X_optimized and Theta_optimized for making predictions or further analysis\n",
    "\n",
    "# Calcular la matriz de predicciones P\n",
    "P = np.dot(X_optimized, Theta_optimized.T)\n",
    "# P ahora contiene las predicciones de calificaciones para cada par de película y usuario"
   ]
  },
  {
   "cell_type": "markdown",
   "metadata": {},
   "source": [
    "### Task 14\n",
    "***\n",
    "Show the titles of the top-5 predictions for the first user u=0, for those films user u did not watch: r(i,u)=0 (they will be the top-5 recommendations)\n",
    "\n",
    "#### Tips\n",
    "* You can import movies' titles using Pandas (see the first notebook)\n"
   ]
  },
  {
   "cell_type": "code",
   "execution_count": 79,
   "metadata": {},
   "outputs": [
    {
     "name": "stdout",
     "output_type": "stream",
     "text": [
      "     itemid                                      title\n",
      "27       28                           Apollo 13 (1995)\n",
      "48       49                                I.Q. (1994)\n",
      "90       91     Nightmare Before Christmas, The (1993)\n",
      "211     212  Unbearable Lightness of Being, The (1988)\n",
      "155     156                      Reservoir Dogs (1992)\n"
     ]
    }
   ],
   "source": [
    "# YOUR CODE ..................................\n",
    "\n",
    "# import pandas\n",
    "from pandas import read_table\n",
    "# read csv file\n",
    "items = read_table('u.item',header=None,sep='|',encoding='ISO-8859-1')\n",
    "# remove collumns 2-24\n",
    "items.drop(range(2,24),axis=1, inplace=True)\n",
    "# name the columns\n",
    "items.columns = ['itemid','title']\n",
    "# show the first 5 rows of the dataframe\n",
    "items.head()\n",
    "\n",
    "# Supongamos que R y P ya están definidos correctamente\n",
    "not_watched_by_user = np.where(R[0, :] == 0)\n",
    "predictions_for_user = P[:, 0][not_watched_by_user]\n",
    "top_5_indices = np.argsort(predictions_for_user)[-5:]\n",
    "top_5_movie_titles = items.iloc[top_5_indices]\n",
    "\n",
    "# Mostrar los títulos de las 5 mejores predicciones\n",
    "print(top_5_movie_titles)\n",
    "\n",
    "\n",
    "\n"
   ]
  },
  {
   "cell_type": "code",
   "execution_count": null,
   "metadata": {},
   "outputs": [],
   "source": []
  }
 ],
 "metadata": {
  "anaconda-cloud": {},
  "celltoolbar": "Slideshow",
  "kernelspec": {
   "display_name": "Python 3 (ipykernel)",
   "language": "python",
   "name": "python3"
  },
  "language_info": {
   "codemirror_mode": {
    "name": "ipython",
    "version": 3
   },
   "file_extension": ".py",
   "mimetype": "text/x-python",
   "name": "python",
   "nbconvert_exporter": "python",
   "pygments_lexer": "ipython3",
   "version": "3.11.5"
  }
 },
 "nbformat": 4,
 "nbformat_minor": 4
}
