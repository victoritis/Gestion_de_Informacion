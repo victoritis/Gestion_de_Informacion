{
 "cells": [
  {
   "cell_type": "markdown",
   "metadata": {
    "slideshow": {
     "slide_type": "slide"
    }
   },
   "source": [
    "<img src=\"http://www.ubu.es/sites/default/files/portal_page/images/logo_color_2l_dcha.jpg\" height=\"150\" width=\"150\" align=\"right\"/>"
   ]
  },
  {
   "cell_type": "markdown",
   "metadata": {
    "slideshow": {
     "slide_type": "-"
    }
   },
   "source": [
    "## Collaborative Filtering (1)\n",
    "[Nacho Santos](www.nacho.santos.name)"
   ]
  },
  {
   "cell_type": "markdown",
   "metadata": {
    "slideshow": {
     "slide_type": "slide"
    }
   },
   "source": [
    "## Introduction\n",
    "The purpose of this assignment is to implement a **collaborative filtering algorithm** in python. This assignment is based on the course “Machine learning” by Andrew N https://www.coursera.org/course/ml. Before starting the work, you should read carefully the cooperative filtering algorithm explained in [class](https://docs.google.com/presentation/d/1OF1gE-ycuI01ds_lXwle6JnrCZMBHKSFgFSBh0LOYlU/edit?usp=sharing). Besides, you can watch the [videos](https://drive.google.com/file/d/0B-Y_cBY4Vgw9dVNrT3VfYU80RWs/view?usp=sharing) from the course Machine Learning where Andrew Ng introduces and explains the collaborative filtering.\n",
    "\n",
    "On the other hand, it is necessary to use the Numpy library. You can learn the fundaments of Numpy following the next tutorials: [Introduction to Numpy](https://anaconda.org/jismartin/intro_numpy/notebook) and [Introduction to Matplotlib](https://anaconda.org/jismartin/intro_matplotlib/notebook)\n",
    "\n",
    "The work is divided into progressive parts. Some functions have already been implemented to help you to test the code. These functions are in the python file **\"recommender_systema.py\"** provided with this interactive notebook. \n",
    "\n",
    "**Your task is to complete the python code when you are asked to do it**."
   ]
  },
  {
   "cell_type": "markdown",
   "metadata": {
    "slideshow": {
     "slide_type": "slide"
    }
   },
   "source": [
    "## Import python packages"
   ]
  },
  {
   "cell_type": "code",
   "execution_count": 2,
   "metadata": {
    "slideshow": {
     "slide_type": "-"
    }
   },
   "outputs": [],
   "source": [
    "import numpy,pandas as np\n",
    "import matplotlib.pyplot as plt"
   ]
  },
  {
   "cell_type": "code",
   "execution_count": 3,
   "metadata": {
    "slideshow": {
     "slide_type": "-"
    }
   },
   "outputs": [],
   "source": [
    "# This line is necessary to show matplotlib plots inside the jupyter notebook\n",
    "%matplotlib inline"
   ]
  },
  {
   "cell_type": "markdown",
   "metadata": {
    "slideshow": {
     "slide_type": "slide"
    }
   },
   "source": [
    "## 1. Download movies database and prepare data\n",
    "**Download** movielens 100k dataset **\"ml-100k.zip\"** from http://grouplens.org/datasets/movielens/100k/\n",
    "The file \"README.TXT\" describes tha dataset composed by different files. In particular, you only need the files:\n",
    "* \"u.data\" that contains the ratings on scale 1 to 5. Users and items are numbered consecutively from 1. The data is randomly ordered in rows with the next format: *user_id | item_id | rating | timestamp*\n",
    "* \"u.item\" that contains the information about the movies\n",
    "\n",
    "**Copy these two files** into the working folder of the jupyter notebook"
   ]
  },
  {
   "cell_type": "markdown",
   "metadata": {
    "slideshow": {
     "slide_type": "slide"
    }
   },
   "source": [
    "### 1.1 Import data\n",
    "\n",
    "Fisrt, we import the names of the movies. We use the Pandas library (http://pandas.pydata.org/) to read the \"u.item\", remove all unnecessary values and keep only the names."
   ]
  },
  {
   "cell_type": "code",
   "execution_count": 4,
   "metadata": {
    "scrolled": true,
    "slideshow": {
     "slide_type": "-"
    }
   },
   "outputs": [
    {
     "data": {
      "text/html": [
       "<div>\n",
       "<style scoped>\n",
       "    .dataframe tbody tr th:only-of-type {\n",
       "        vertical-align: middle;\n",
       "    }\n",
       "\n",
       "    .dataframe tbody tr th {\n",
       "        vertical-align: top;\n",
       "    }\n",
       "\n",
       "    .dataframe thead th {\n",
       "        text-align: right;\n",
       "    }\n",
       "</style>\n",
       "<table border=\"1\" class=\"dataframe\">\n",
       "  <thead>\n",
       "    <tr style=\"text-align: right;\">\n",
       "      <th></th>\n",
       "      <th>itemid</th>\n",
       "      <th>title</th>\n",
       "    </tr>\n",
       "  </thead>\n",
       "  <tbody>\n",
       "    <tr>\n",
       "      <th>0</th>\n",
       "      <td>1</td>\n",
       "      <td>Toy Story (1995)</td>\n",
       "    </tr>\n",
       "    <tr>\n",
       "      <th>1</th>\n",
       "      <td>2</td>\n",
       "      <td>GoldenEye (1995)</td>\n",
       "    </tr>\n",
       "    <tr>\n",
       "      <th>2</th>\n",
       "      <td>3</td>\n",
       "      <td>Four Rooms (1995)</td>\n",
       "    </tr>\n",
       "    <tr>\n",
       "      <th>3</th>\n",
       "      <td>4</td>\n",
       "      <td>Get Shorty (1995)</td>\n",
       "    </tr>\n",
       "    <tr>\n",
       "      <th>4</th>\n",
       "      <td>5</td>\n",
       "      <td>Copycat (1995)</td>\n",
       "    </tr>\n",
       "  </tbody>\n",
       "</table>\n",
       "</div>"
      ],
      "text/plain": [
       "   itemid              title\n",
       "0       1   Toy Story (1995)\n",
       "1       2   GoldenEye (1995)\n",
       "2       3  Four Rooms (1995)\n",
       "3       4  Get Shorty (1995)\n",
       "4       5     Copycat (1995)"
      ]
     },
     "execution_count": 4,
     "metadata": {},
     "output_type": "execute_result"
    }
   ],
   "source": [
    "# import pandas\n",
    "from pandas import read_table\n",
    "# read csv file\n",
    "items = read_table('u.item',header=None,sep='|',encoding='ISO-8859-1')\n",
    "# remove collumns 2-24\n",
    "items.drop(range(2,24),axis=1, inplace=True)\n",
    "# name the columns\n",
    "items.columns = ['itemid','title']\n",
    "# show the first 5 rows of the dataframe\n",
    "items.head()"
   ]
  },
  {
   "cell_type": "markdown",
   "metadata": {
    "slideshow": {
     "slide_type": "slide"
    }
   },
   "source": [
    "The dataframe \"items\" contains the column \"itemid\" with the Movielens index of each movie, and the column \"title\"  with the title of each movie. If you want to get the name of the i-th movie, you can use the method *iloc*"
   ]
  },
  {
   "cell_type": "code",
   "execution_count": 5,
   "metadata": {},
   "outputs": [
    {
     "name": "stdout",
     "output_type": "stream",
     "text": [
      "Nombre de la película en el índice 24: Birdcage, The (1996)\n"
     ]
    }
   ],
   "source": [
    "# Supongamos que deseas obtener el nombre de la película en el índice i\n",
    "i = 24  # Reemplaza esto con el índice de la película que deseas\n",
    "\n",
    "# Usa iloc para obtener el nombre de la película en el índice i\n",
    "movie_name = items.iloc[i]['title']\n",
    "\n",
    "# Imprime el nombre de la película\n",
    "print(f\"Nombre de la película en el índice {i}: {movie_name}\")\n"
   ]
  },
  {
   "cell_type": "markdown",
   "metadata": {
    "slideshow": {
     "slide_type": "slide"
    }
   },
   "source": [
    "### Task 1\n",
    "***\n",
    "Now, **you have to import** the ratings from the file 'u.data'. \n",
    "#### Tips\n",
    "* You can read a text file into a Numpy array using the function [genfromtxt](https://docs.scipy.org/doc/numpy/reference/generated/numpy.genfromtxt.html) (use the *delimiter='\\t'* to split columns)"
   ]
  },
  {
   "cell_type": "code",
   "execution_count": 6,
   "metadata": {
    "slideshow": {
     "slide_type": "slide"
    }
   },
   "outputs": [
    {
     "name": "stdout",
     "output_type": "stream",
     "text": [
      "[[      196       242         3 881250949]\n",
      " [      186       302         3 891717742]\n",
      " [       22       377         1 878887116]\n",
      " [      244        51         2 880606923]\n",
      " [      166       346         1 886397596]]\n"
     ]
    }
   ],
   "source": [
    "import numpy as np\n",
    "\n",
    "# Ruta al archivo 'u.data' en tu carpeta de trabajo de Jupyter\n",
    "file_path = 'u.data'\n",
    "\n",
    "# Usamos la función genfromtxt para cargar los datos desde el archivo\n",
    "# Utilizamos '\\t' como delimitador para dividir las columnas, ya que el archivo está en formato de tabulación.\n",
    "ratings_data = np.genfromtxt(file_path, delimiter='\\t', dtype=int)\n",
    "\n",
    "# Ahora, ratings_data contiene los datos del archivo 'u.data'\n",
    "# Puedes trabajar con esta matriz NumPy para analizar las calificaciones.\n",
    "\n",
    "print(ratings_data[:5])"
   ]
  },
  {
   "cell_type": "markdown",
   "metadata": {},
   "source": [
    "### 1.2 Build arrays Y, R"
   ]
  },
  {
   "cell_type": "markdown",
   "metadata": {
    "slideshow": {
     "slide_type": "slide"
    }
   },
   "source": [
    "### Task 2\n",
    "***\n",
    "Now, **you have to build** the matrices Y and R. \n",
    "\n",
    "The *n_movies x n_users (mxu)* matrix Y represents (by columns) the ratings that each user gave to the movies she watched\n",
    "\n",
    "$Y=\\begin{bmatrix}y^{(1,1)} & ...& y^{(1,u)} \\\\. & ...& .\\\\y^{(m,1)} & ...& y^{(m,u)} \\end{bmatrix}$\n",
    "\n",
    "The matrix R is complementary to Y. R has the same dimension of Y, i.e. *n_movies x n_users (mxu)*, and represents (by columns) if a user watched a movie (1) or did not (0).\n",
    "\n",
    "$R=\\begin{bmatrix}r^{(1,1)} & ...& r^{(1,u)} \\\\. & ...& .\\\\r^{(m,1)} & ...& r^{(m,u)} \\end{bmatrix}$\n",
    "\n",
    "where\n",
    "\n",
    "$r^{(i,j)}=\\begin{cases}1 & user(j) \\ watched \\ movie(i)\\\\0 & otherwise\\end{cases}$\n",
    "\n",
    "#### Tips\n",
    "* Remember that in Numpy the index array always starts with 0, i.e. the row 0 of the matrix Y represents the ratings of the movie 1 of Movielens database, similarly, the column 0 of the matrix Y represents the ratings of the user 1 of the Movielens database.\n",
    "* The Numpy function **unique()** returns the sorted unique elements of an array; it may be useful to get the list of users and movies from the rating database\n",
    "* The Numpy function **zeros()** returns a matrix of zeros \n",
    "* Supposing a Numpy array A, the function **A.shape[0]** returns the number of rows, and **A.shape[1]** the number of columns"
   ]
  },
  {
   "cell_type": "code",
   "execution_count": 7,
   "metadata": {
    "slideshow": {
     "slide_type": "slide"
    }
   },
   "outputs": [
    {
     "name": "stdout",
     "output_type": "stream",
     "text": [
      "Matriz Y:\n",
      "[[5. 3. 4. 3. 3.]\n",
      " [4. 0. 0. 0. 0.]\n",
      " [0. 0. 0. 0. 0.]\n",
      " [0. 0. 0. 0. 0.]\n",
      " [4. 3. 0. 0. 0.]]\n",
      "\n",
      "Matriz R:\n",
      "[[1. 1. 1. 1. 1.]\n",
      " [1. 0. 0. 0. 0.]\n",
      " [0. 0. 0. 0. 0.]\n",
      " [0. 0. 0. 0. 0.]\n",
      " [1. 1. 0. 0. 0.]]\n"
     ]
    }
   ],
   "source": [
    "# Ruta al archivo 'u.data' en tu carpeta de trabajo de Jupyter\n",
    "file_path_ratings = 'u.data'\n",
    "\n",
    "# Leer el archivo 'u.data' y crear las matrices \"Y\" y \"R\"\n",
    "ratings_data = np.genfromtxt(file_path_ratings, delimiter='\\t', dtype=int)\n",
    "num_users = np.max(ratings_data[:, 0])\n",
    "num_movies = np.max(ratings_data[:, 1])\n",
    "\n",
    "# Inicializar la matriz \"Y\" con ceros\n",
    "Y = np.zeros((num_users, num_movies))\n",
    "\n",
    "# Inicializar la matriz \"R\" con ceros\n",
    "R = np.zeros((num_users, num_movies))\n",
    "\n",
    "# Llenar las matrices \"Y\" y \"R\" con los datos del archivo 'u.data'\n",
    "for row in ratings_data:\n",
    "    user_id = row[0]\n",
    "    movie_id = row[1]\n",
    "    rating = row[2]\n",
    "    \n",
    "    Y[user_id - 1, movie_id - 1] = rating  # Restamos 1 para ajustar los índices\n",
    "    R[user_id - 1, movie_id - 1] = 1  # Marcar como 1 si el usuario ha calificado la película\n",
    "\n",
    "# Imprimir una muestra de las matrices Y y R\n",
    "print(\"Matriz Y:\")\n",
    "print(Y[:5, :5])  # Imprime las primeras 5 filas y 5 columnas de Y\n",
    "\n",
    "print(\"\\nMatriz R:\")\n",
    "print(R[:5, :5])  # Imprime las primeras 5 filas y 5 columnas de R"
   ]
  },
  {
   "cell_type": "code",
   "execution_count": 8,
   "metadata": {},
   "outputs": [
    {
     "data": {
      "text/plain": [
       "array([[5., 3., 4., ..., 0., 0., 0.],\n",
       "       [4., 0., 0., ..., 0., 0., 0.],\n",
       "       [0., 0., 0., ..., 0., 0., 0.],\n",
       "       ...,\n",
       "       [5., 0., 0., ..., 0., 0., 0.],\n",
       "       [0., 0., 0., ..., 0., 0., 0.],\n",
       "       [0., 5., 0., ..., 0., 0., 0.]])"
      ]
     },
     "execution_count": 8,
     "metadata": {},
     "output_type": "execute_result"
    }
   ],
   "source": [
    "Y"
   ]
  },
  {
   "cell_type": "markdown",
   "metadata": {},
   "source": [
    "### 1.3 Using matrices Y and R"
   ]
  },
  {
   "cell_type": "markdown",
   "metadata": {
    "slideshow": {
     "slide_type": "slide"
    }
   },
   "source": [
    "### Task 3\n",
    "***\n",
    "**Answer** the next questions:\n",
    "1. How many movies did the Movielens user 12 watch?\n",
    "2. What is the minimum rating of the Movielens user 12 ? And the maximum?\n",
    "3. What is the maximum rating of the Movielens user 12 ?\n",
    "4. What are the movie indices that the Movielens user 12 watched? And the user 11?\n",
    "5. What are the movie indices that both the Movielens user 12 and 11 watched?\n",
    "\n",
    "#### Tips\n",
    "* The Numpy function **where(A>0)** returns the indices of the elements of A where the condition >0 is true\n"
   ]
  },
  {
   "cell_type": "code",
   "execution_count": 9,
   "metadata": {
    "slideshow": {
     "slide_type": "slide"
    }
   },
   "outputs": [
    {
     "name": "stdout",
     "output_type": "stream",
     "text": [
      "1. El usuario 12 vio 51 películas.\n",
      "2. Calificación mínima del usuario 12: 1.0. Calificación máxima: 5.0.\n",
      "3. Calificación máxima del usuario 12: 5.0.\n",
      "4. Índices de películas que el usuario 12 y el usuario 11 vieron: [ 14  27  68  87  96  97 167 190 195 202 203 214 215 227 237 299 317 401\n",
      " 734]\n"
     ]
    }
   ],
   "source": [
    "# Task: explore Y and R\n",
    "# YOUR CODE ..................................\n",
    "\n",
    "import numpy as np\n",
    "\n",
    "# Supongamos que el usuario 12 tiene un índice de 11 en las matrices\n",
    "user_12_index = 11\n",
    "\n",
    "# 1. Cuántas películas vio el usuario 12\n",
    "movies_watched_by_user_12 = np.where(R[user_12_index] == 1)\n",
    "num_movies_watched_by_user_12 = len(movies_watched_by_user_12[0])\n",
    "\n",
    "# 2. Calificación mínima y máxima del usuario 12\n",
    "ratings_of_user_12 = Y[user_12_index, movies_watched_by_user_12]\n",
    "min_rating_user_12 = np.min(ratings_of_user_12)\n",
    "max_rating_user_12 = np.max(ratings_of_user_12)\n",
    "\n",
    "# 3. Calificación máxima del usuario 12\n",
    "max_rating_user_12 = np.max(Y[user_12_index])\n",
    "\n",
    "# 4. Índices de películas que el usuario 12 y el usuario 11 vieron\n",
    "user_11_index = 10  # Suponiendo que el usuario 11 tiene un índice de 10 en las matrices\n",
    "movies_watched_by_user_11 = np.where(R[user_11_index] == 1)\n",
    "common_movies_user_12_11 = np.intersect1d(movies_watched_by_user_12, movies_watched_by_user_11)\n",
    "\n",
    "# Imprimir las respuestas\n",
    "print(f\"1. El usuario 12 vio {num_movies_watched_by_user_12} películas.\")\n",
    "print(f\"2. Calificación mínima del usuario 12: {min_rating_user_12}. Calificación máxima: {max_rating_user_12}.\")\n",
    "print(f\"3. Calificación máxima del usuario 12: {max_rating_user_12}.\")\n",
    "print(f\"4. Índices de películas que el usuario 12 y el usuario 11 vieron: {common_movies_user_12_11}\")\n",
    "\n",
    "\n",
    "\n",
    "\n",
    "\n"
   ]
  },
  {
   "cell_type": "markdown",
   "metadata": {},
   "source": [
    "### 1.4 Checking Y and R"
   ]
  },
  {
   "cell_type": "markdown",
   "metadata": {
    "slideshow": {
     "slide_type": "slide"
    }
   },
   "source": [
    "### Task 4\n",
    "***\n",
    "Check the matrices Y and R computed above by calculating some statistics (your values must be equal to the values shown below)\n",
    "\n",
    "* number of users: 943\n",
    "* number of movies: 1682\n",
    "* dimension of Y: (1682,943)\n",
    "* dimension of R: (1682,943)\n",
    "* number of ratings: 100000\n",
    "* number of nonzero elements of R: 100000\n",
    "* average rating: 3.5299\n",
    "* maximum rating: 5.0000\n",
    "* minimum rating: 1.0000\n",
    "* average rating of the movie 1: 3.8783\n",
    "* average rating of the movie 10: 3.8315\n",
    "* average rating of the movie 100: 4.1555\n",
    "* average rating of the movie 1000: 3.0000 \n",
    "* average rating of the user 1: 3.6103\n",
    "* average rating of the user 10: 4.2065\n",
    "* average rating of the user 100: 3.0678\n",
    "* average rating of the user 900: 2.5556\n",
    "\n",
    "#### Tips\n",
    "* Suppose the user i. Note that the average of ratings is over the movies that user i watched, so you have to consider only the values Y(j,i) such as the corresponding R(j,i) is equal to one."
   ]
  },
  {
   "cell_type": "code",
   "execution_count": 10,
   "metadata": {
    "slideshow": {
     "slide_type": "slide"
    }
   },
   "outputs": [
    {
     "name": "stdout",
     "output_type": "stream",
     "text": [
      "Número de usuarios: 1682\n",
      "Número de películas: 943\n",
      "Dimensión de Y: (943, 1682)\n",
      "Dimensión de R: (943, 1682)\n",
      "Número de calificaciones: 100000.0\n",
      "Número de elementos no nulos de R: 100000\n",
      "Calificación promedio: 3.5299\n",
      "Calificación máxima: 5.0000\n",
      "Calificación mínima: 1.0000\n",
      "Calificación promedio de la película 1: 3.6103\n",
      "Calificación promedio de la película 10: 4.2065\n",
      "Calificación promedio de la película 100: 3.0678\n",
      "Calificación promedio de la película 1000: 0.0000\n",
      "Calificación promedio del usuario 1: 3.8783\n",
      "Calificación promedio del usuario 10: 3.8315\n",
      "Calificación promedio del usuario 100: 4.1555\n",
      "Calificación promedio del usuario 900: 3.6905\n"
     ]
    }
   ],
   "source": [
    "# Task: check Y and R\n",
    "# YOUR CODE ..................................\n",
    "\n",
    "import numpy as np\n",
    "\n",
    "# Número de usuarios\n",
    "num_users = Y.shape[1]\n",
    "\n",
    "# Número de películas\n",
    "num_movies = Y.shape[0]\n",
    "\n",
    "# Número de calificaciones totales\n",
    "num_ratings = R.sum()\n",
    "\n",
    "# Número de elementos no nulos de R\n",
    "num_nonzero_elements_R = np.sum(R)\n",
    "\n",
    "# Calificación promedio\n",
    "average_rating = Y[R == 1].mean()\n",
    "\n",
    "# Calificación máxima y mínima\n",
    "max_rating = Y[R == 1].max()\n",
    "min_rating = Y[R == 1].min()\n",
    "\n",
    "# Calificación promedio por película\n",
    "average_rating_movie_1 = Y[0, R[0] == 1].mean()\n",
    "average_rating_movie_10 = Y[9, R[9] == 1].mean()\n",
    "average_rating_movie_100 = Y[99, R[99] == 1].mean()\n",
    "\n",
    "# Calificación promedio de la película 1000 (verificar si la película existe)\n",
    "movie_index_1000 = 999  # Índice de la película 1000\n",
    "if movie_index_1000 < Y.shape[0]:\n",
    "    average_rating_movie_1000 = Y[movie_index_1000, R[movie_index_1000] == 1].mean()\n",
    "else:\n",
    "    average_rating_movie_1000 = 0.0  # Otra acción, si la película no existe\n",
    "\n",
    "# Calificación promedio por usuario\n",
    "average_rating_user_1 = Y[:, 0][R[:, 0] == 1].mean()\n",
    "average_rating_user_10 = Y[:, 9][R[:, 9] == 1].mean()\n",
    "average_rating_user_100 = Y[:, 99][R[:, 99] == 1].mean()\n",
    "average_rating_user_900 = Y[:, 899][R[:, 899] == 1].mean()\n",
    "\n",
    "\n",
    "\n",
    "\n",
    "# Imprimir las estadísticas\n",
    "print(f\"Número de usuarios: {num_users}\")\n",
    "print(f\"Número de películas: {num_movies}\")\n",
    "print(f\"Dimensión de Y: {Y.shape}\")\n",
    "print(f\"Dimensión de R: {R.shape}\")\n",
    "print(f\"Número de calificaciones: {num_ratings}\")\n",
    "print(f\"Número de elementos no nulos de R: {num_nonzero_elements_R:.0f}\")\n",
    "print(f\"Calificación promedio: {average_rating:.4f}\")\n",
    "print(f\"Calificación máxima: {max_rating:.4f}\")\n",
    "print(f\"Calificación mínima: {min_rating:.4f}\")\n",
    "print(f\"Calificación promedio de la película 1: {average_rating_movie_1:.4f}\")\n",
    "print(f\"Calificación promedio de la película 10: {average_rating_movie_10:.4f}\")\n",
    "print(f\"Calificación promedio de la película 100: {average_rating_movie_100:.4f}\")\n",
    "print(f\"Calificación promedio de la película 1000: {average_rating_movie_1000:.4f}\")\n",
    "print(f\"Calificación promedio del usuario 1: {average_rating_user_1:.4f}\")\n",
    "print(f\"Calificación promedio del usuario 10: {average_rating_user_10:.4f}\")\n",
    "print(f\"Calificación promedio del usuario 100: {average_rating_user_100:.4f}\")\n",
    "print(f\"Calificación promedio del usuario 900: {average_rating_user_900:.4f}\")\n",
    "\n",
    "\n",
    "\n",
    "\n",
    "\n"
   ]
  },
  {
   "cell_type": "markdown",
   "metadata": {},
   "source": [
    "### 1.5 Sparse matrix Y"
   ]
  },
  {
   "cell_type": "markdown",
   "metadata": {
    "slideshow": {
     "slide_type": "slide"
    }
   },
   "source": [
    "### Task 5\n",
    "***\n",
    "You can use the Numpy function **matshow()** to show that the matrix Y is sparse (most values are zero because they correspond to movies that have not been watched). You should get a plot similar to the next one:\n",
    "<img src=\"https://goo.gl/dk84YT\" height=\"400\" width=\"300\" align=\"centre\"/>"
   ]
  },
  {
   "cell_type": "code",
   "execution_count": 11,
   "metadata": {
    "slideshow": {
     "slide_type": "slide"
    }
   },
   "outputs": [
    {
     "data": {
      "image/png": "[encoded data removed]",
      "text/plain": [
       "<Figure size 1000x800 with 2 Axes>"
      ]
     },
     "metadata": {},
     "output_type": "display_data"
    }
   ],
   "source": [
    "# Task: show matrix Y\n",
    "# YOUR CODE ..................................\n",
    "\n",
    "import matplotlib.pyplot as plt\n",
    "\n",
    "# Usamos matshow para visualizar la matriz Y\n",
    "plt.figure(figsize=(10, 8))  # Puedes ajustar el tamaño según tus necesidades\n",
    "plt.matshow(Y, fignum=1, aspect='auto')  # 'aspect' controla la proporción de la visualización\n",
    "\n",
    "plt.title(\"Visualización de la Matriz Y\")\n",
    "plt.xlabel(\"Usuarios\")\n",
    "plt.ylabel(\"Películas\")\n",
    "plt.colorbar()  # Añadir una barra de colores para representar los valores de las calificaciones\n",
    "\n",
    "plt.show()\n",
    "\n",
    "\n",
    "\n",
    "\n",
    "\n"
   ]
  },
  {
   "cell_type": "markdown",
   "metadata": {
    "slideshow": {
     "slide_type": "slide"
    }
   },
   "source": [
    "### 1.6 Save variables"
   ]
  },
  {
   "cell_type": "markdown",
   "metadata": {},
   "source": [
    "### Task 6\n",
    "***\n",
    "Finally, save the matrices Y and R so you can load them in another notebook."
   ]
  },
  {
   "cell_type": "code",
   "execution_count": 12,
   "metadata": {
    "slideshow": {
     "slide_type": "-"
    }
   },
   "outputs": [],
   "source": [
    "# Task: save a matrix Y and R\n",
    "# YOUR CODE ..................................\n",
    "import numpy as np\n",
    "\n",
    "# Guardar la matriz Y\n",
    "np.save('matriz_Y.npy', Y)\n",
    "\n",
    "# Guardar la matriz R\n",
    "np.save('matriz_R.npy', R)\n",
    "\n",
    "\n",
    "\n",
    "\n",
    "\n"
   ]
  }
 ],
 "metadata": {
  "anaconda-cloud": {},
  "celltoolbar": "Slideshow",
  "kernelspec": {
   "display_name": "Python 3 (ipykernel)",
   "language": "python",
   "name": "python3"
  },
  "language_info": {
   "codemirror_mode": {
    "name": "ipython",
    "version": 3
   },
   "file_extension": ".py",
   "mimetype": "text/x-python",
   "name": "python",
   "nbconvert_exporter": "python",
   "pygments_lexer": "ipython3",
   "version": "3.11.5"
  }
 },
 "nbformat": 4,
 "nbformat_minor": 4
}
